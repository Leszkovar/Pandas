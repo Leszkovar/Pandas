{
 "cells": [
  {
   "cell_type": "code",
   "execution_count": 2,
   "id": "5cbc5128",
   "metadata": {},
   "outputs": [],
   "source": [
    "import pandas as pd"
   ]
  },
  {
   "cell_type": "code",
   "execution_count": 9,
   "id": "f56e053d",
   "metadata": {},
   "outputs": [],
   "source": [
    "def read():\n",
    "    towns = []\n",
    "    state = \"\"\n",
    "    \n",
    "    with open(\"university_towns.txt\", mode=\"r\") as file:\n",
    "        # print(file.readlines())\n",
    "        for line in file:\n",
    "            if \"[edit]\" in line:\n",
    "                state = line.strip()\n",
    "            else:\n",
    "                towns.append([state, line])\n",
    "    return pd.DataFrame(towns, columns=[\"state\", \"town\"])"
   ]
  },
  {
   "cell_type": "code",
   "execution_count": 10,
   "id": "625f1580",
   "metadata": {},
   "outputs": [],
   "source": [
    "towns = read()"
   ]
  },
  {
   "cell_type": "code",
   "execution_count": 12,
   "id": "d7886f4d",
   "metadata": {},
   "outputs": [
    {
     "data": {
      "text/html": [
       "<div>\n",
       "<style scoped>\n",
       "    .dataframe tbody tr th:only-of-type {\n",
       "        vertical-align: middle;\n",
       "    }\n",
       "\n",
       "    .dataframe tbody tr th {\n",
       "        vertical-align: top;\n",
       "    }\n",
       "\n",
       "    .dataframe thead th {\n",
       "        text-align: right;\n",
       "    }\n",
       "</style>\n",
       "<table border=\"1\" class=\"dataframe\">\n",
       "  <thead>\n",
       "    <tr style=\"text-align: right;\">\n",
       "      <th></th>\n",
       "      <th>state</th>\n",
       "      <th>town</th>\n",
       "    </tr>\n",
       "  </thead>\n",
       "  <tbody>\n",
       "    <tr>\n",
       "      <th>0</th>\n",
       "      <td>Alabama[edit]</td>\n",
       "      <td>Auburn (Auburn University)[1]\\n</td>\n",
       "    </tr>\n",
       "    <tr>\n",
       "      <th>1</th>\n",
       "      <td>Alabama[edit]</td>\n",
       "      <td>Florence (University of North Alabama)\\n</td>\n",
       "    </tr>\n",
       "    <tr>\n",
       "      <th>2</th>\n",
       "      <td>Alabama[edit]</td>\n",
       "      <td>Jacksonville (Jacksonville State University)[2]\\n</td>\n",
       "    </tr>\n",
       "    <tr>\n",
       "      <th>3</th>\n",
       "      <td>Alabama[edit]</td>\n",
       "      <td>Livingston (University of West Alabama)[2]\\n</td>\n",
       "    </tr>\n",
       "    <tr>\n",
       "      <th>4</th>\n",
       "      <td>Alabama[edit]</td>\n",
       "      <td>Montevallo (University of Montevallo)[2]\\n</td>\n",
       "    </tr>\n",
       "  </tbody>\n",
       "</table>\n",
       "</div>"
      ],
      "text/plain": [
       "           state                                               town\n",
       "0  Alabama[edit]                    Auburn (Auburn University)[1]\\n\n",
       "1  Alabama[edit]           Florence (University of North Alabama)\\n\n",
       "2  Alabama[edit]  Jacksonville (Jacksonville State University)[2]\\n\n",
       "3  Alabama[edit]       Livingston (University of West Alabama)[2]\\n\n",
       "4  Alabama[edit]         Montevallo (University of Montevallo)[2]\\n"
      ]
     },
     "execution_count": 12,
     "metadata": {},
     "output_type": "execute_result"
    }
   ],
   "source": [
    "towns.head()"
   ]
  },
  {
   "cell_type": "code",
   "execution_count": 13,
   "id": "d8ed8c9a",
   "metadata": {},
   "outputs": [],
   "source": [
    "towns.to_csv(\"towns.csv\")"
   ]
  }
 ],
 "metadata": {
  "kernelspec": {
   "display_name": "Python 3 (ipykernel)",
   "language": "python",
   "name": "python3"
  },
  "language_info": {
   "codemirror_mode": {
    "name": "ipython",
    "version": 3
   },
   "file_extension": ".py",
   "mimetype": "text/x-python",
   "name": "python",
   "nbconvert_exporter": "python",
   "pygments_lexer": "ipython3",
   "version": "3.9.12"
  }
 },
 "nbformat": 4,
 "nbformat_minor": 5
}
