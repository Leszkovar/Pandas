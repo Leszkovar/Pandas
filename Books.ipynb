{
 "cells": [
  {
   "cell_type": "markdown",
   "id": "f31f2c4e",
   "metadata": {},
   "source": [
    "Books file"
   ]
  },
  {
   "cell_type": "code",
   "execution_count": 2,
   "id": "41763ba3",
   "metadata": {},
   "outputs": [],
   "source": [
    "import pandas as pd"
   ]
  },
  {
   "cell_type": "code",
   "execution_count": 45,
   "id": "465e3685",
   "metadata": {},
   "outputs": [],
   "source": [
    "def read():\n",
    "    return (\n",
    "        pd.read_csv(\"BL-Flickr-Images-Book.csv\")\n",
    "        .rename(columns=lambda header: header.lower().replace(\" \", \"_\"))\n",
    "        .rename(columns={\"identifier\": \"id\"})\n",
    "        .drop(\n",
    "            columns=[\n",
    "                \"edition_statement\",\n",
    "                \"contributors\",\n",
    "                \"corporate_author\",\n",
    "                \"corporate_contributors\",\n",
    "                \"former_owner\",\n",
    "                \"engraver\",\n",
    "                \"issuance_type\",\n",
    "                \"shelfmarks\",\n",
    "            ]\n",
    "        )\n",
    "        .set_index(\"id\")\n",
    "        .assign(\n",
    "            date_of_publication=clean_date_of_publication,\n",
    "            place_of_publication=clean_place_of_publication,\n",
    "        )\n",
    "    )\n",
    "\n",
    "\n",
    "def clean_date_of_publication(books):\n",
    "    return pd.to_numeric(\n",
    "        books.loc[:, \"date_of_publication\"]\n",
    "        .str.extract(r\"(\\d{4})\", expand=False)\n",
    "        .fillna(0),\n",
    "        downcast=\"unsigned\"\n",
    ")    \n",
    "\n",
    "def clean_place_of_publication(books):\n",
    "    return (\n",
    "        books.loc[:, \"place_of_publication\"]\n",
    "        .str.replace(r\".*London.*\", \"London\", regex=True)\n",
    "        .str.replace(r\"-\", \" \", regex=True)\n",
    "        .str.replace(r\".*Oxford.*\", \"Oxford\", regex=True)\n",
    "        .str.replace(r\".*Plymouth.*\", \"Plymouth\", regex=True)\n",
    "    \n",
    "    )\n",
    "    \n",
    "         "
   ]
  },
  {
   "cell_type": "code",
   "execution_count": 46,
   "id": "22f741f4",
   "metadata": {},
   "outputs": [],
   "source": [
    "books = read()"
   ]
  },
  {
   "cell_type": "code",
   "execution_count": 47,
   "id": "565163af",
   "metadata": {},
   "outputs": [
    {
     "data": {
      "text/html": [
       "<div>\n",
       "<style scoped>\n",
       "    .dataframe tbody tr th:only-of-type {\n",
       "        vertical-align: middle;\n",
       "    }\n",
       "\n",
       "    .dataframe tbody tr th {\n",
       "        vertical-align: top;\n",
       "    }\n",
       "\n",
       "    .dataframe thead th {\n",
       "        text-align: right;\n",
       "    }\n",
       "</style>\n",
       "<table border=\"1\" class=\"dataframe\">\n",
       "  <thead>\n",
       "    <tr style=\"text-align: right;\">\n",
       "      <th></th>\n",
       "      <th>place_of_publication</th>\n",
       "      <th>date_of_publication</th>\n",
       "      <th>publisher</th>\n",
       "      <th>title</th>\n",
       "      <th>author</th>\n",
       "      <th>flickr_url</th>\n",
       "    </tr>\n",
       "    <tr>\n",
       "      <th>id</th>\n",
       "      <th></th>\n",
       "      <th></th>\n",
       "      <th></th>\n",
       "      <th></th>\n",
       "      <th></th>\n",
       "      <th></th>\n",
       "    </tr>\n",
       "  </thead>\n",
       "  <tbody>\n",
       "    <tr>\n",
       "      <th>206</th>\n",
       "      <td>London</td>\n",
       "      <td>1879</td>\n",
       "      <td>S. Tinsley &amp; Co.</td>\n",
       "      <td>Walter Forbes. [A novel.] By A. A</td>\n",
       "      <td>A. A.</td>\n",
       "      <td>http://www.flickr.com/photos/britishlibrary/ta...</td>\n",
       "    </tr>\n",
       "    <tr>\n",
       "      <th>216</th>\n",
       "      <td>London</td>\n",
       "      <td>1868</td>\n",
       "      <td>Virtue &amp; Co.</td>\n",
       "      <td>All for Greed. [A novel. The dedication signed...</td>\n",
       "      <td>A., A. A.</td>\n",
       "      <td>http://www.flickr.com/photos/britishlibrary/ta...</td>\n",
       "    </tr>\n",
       "    <tr>\n",
       "      <th>218</th>\n",
       "      <td>London</td>\n",
       "      <td>1869</td>\n",
       "      <td>Bradbury, Evans &amp; Co.</td>\n",
       "      <td>Love the Avenger. By the author of “All for Gr...</td>\n",
       "      <td>A., A. A.</td>\n",
       "      <td>http://www.flickr.com/photos/britishlibrary/ta...</td>\n",
       "    </tr>\n",
       "    <tr>\n",
       "      <th>472</th>\n",
       "      <td>London</td>\n",
       "      <td>1851</td>\n",
       "      <td>James Darling</td>\n",
       "      <td>Welsh Sketches, chiefly ecclesiastical, to the...</td>\n",
       "      <td>A., E. S.</td>\n",
       "      <td>http://www.flickr.com/photos/britishlibrary/ta...</td>\n",
       "    </tr>\n",
       "    <tr>\n",
       "      <th>480</th>\n",
       "      <td>London</td>\n",
       "      <td>1857</td>\n",
       "      <td>Wertheim &amp; Macintosh</td>\n",
       "      <td>[The World in which I live, and my place in it...</td>\n",
       "      <td>A., E. S.</td>\n",
       "      <td>http://www.flickr.com/photos/britishlibrary/ta...</td>\n",
       "    </tr>\n",
       "  </tbody>\n",
       "</table>\n",
       "</div>"
      ],
      "text/plain": [
       "    place_of_publication  date_of_publication              publisher  \\\n",
       "id                                                                     \n",
       "206               London                 1879       S. Tinsley & Co.   \n",
       "216               London                 1868           Virtue & Co.   \n",
       "218               London                 1869  Bradbury, Evans & Co.   \n",
       "472               London                 1851          James Darling   \n",
       "480               London                 1857   Wertheim & Macintosh   \n",
       "\n",
       "                                                 title     author  \\\n",
       "id                                                                  \n",
       "206                  Walter Forbes. [A novel.] By A. A      A. A.   \n",
       "216  All for Greed. [A novel. The dedication signed...  A., A. A.   \n",
       "218  Love the Avenger. By the author of “All for Gr...  A., A. A.   \n",
       "472  Welsh Sketches, chiefly ecclesiastical, to the...  A., E. S.   \n",
       "480  [The World in which I live, and my place in it...  A., E. S.   \n",
       "\n",
       "                                            flickr_url  \n",
       "id                                                      \n",
       "206  http://www.flickr.com/photos/britishlibrary/ta...  \n",
       "216  http://www.flickr.com/photos/britishlibrary/ta...  \n",
       "218  http://www.flickr.com/photos/britishlibrary/ta...  \n",
       "472  http://www.flickr.com/photos/britishlibrary/ta...  \n",
       "480  http://www.flickr.com/photos/britishlibrary/ta...  "
      ]
     },
     "execution_count": 47,
     "metadata": {},
     "output_type": "execute_result"
    }
   ],
   "source": [
    "books.head()"
   ]
  },
  {
   "cell_type": "code",
   "execution_count": 19,
   "id": "4cd54558",
   "metadata": {},
   "outputs": [
    {
     "data": {
      "text/plain": [
       "0           206\n",
       "1           216\n",
       "2           218\n",
       "3           472\n",
       "4           480\n",
       "         ...   \n",
       "8282    4158088\n",
       "8283    4158128\n",
       "8284    4159563\n",
       "8285    4159587\n",
       "8286    4160339\n",
       "Name: id, Length: 8287, dtype: int64"
      ]
     },
     "execution_count": 19,
     "metadata": {},
     "output_type": "execute_result"
    }
   ],
   "source": [
    "books.loc[:, \"id\"]"
   ]
  },
  {
   "cell_type": "code",
   "execution_count": 20,
   "id": "e071dfca",
   "metadata": {},
   "outputs": [
    {
     "data": {
      "text/plain": [
       "True"
      ]
     },
     "execution_count": 20,
     "metadata": {},
     "output_type": "execute_result"
    }
   ],
   "source": [
    "books.loc[:, \"id\"].is_unique"
   ]
  },
  {
   "cell_type": "code",
   "execution_count": 35,
   "id": "70d766ba",
   "metadata": {},
   "outputs": [
    {
     "data": {
      "text/plain": [
       "id\n",
       "206                          London\n",
       "216        London; Virtue & Yorston\n",
       "218                          London\n",
       "472                          London\n",
       "480                          London\n",
       "                     ...           \n",
       "4158088                      London\n",
       "4158128                       Derby\n",
       "4159563                      London\n",
       "4159587         Newcastle upon Tyne\n",
       "4160339                      London\n",
       "Name: place_of_publication, Length: 8287, dtype: object"
      ]
     },
     "execution_count": 35,
     "metadata": {},
     "output_type": "execute_result"
    }
   ],
   "source": [
    "books.loc[:, \"place_of_publication\"]"
   ]
  },
  {
   "cell_type": "code",
   "execution_count": 44,
   "id": "3df40e5d",
   "metadata": {},
   "outputs": [
    {
     "data": {
      "text/html": [
       "<div>\n",
       "<style scoped>\n",
       "    .dataframe tbody tr th:only-of-type {\n",
       "        vertical-align: middle;\n",
       "    }\n",
       "\n",
       "    .dataframe tbody tr th {\n",
       "        vertical-align: top;\n",
       "    }\n",
       "\n",
       "    .dataframe thead th {\n",
       "        text-align: right;\n",
       "    }\n",
       "</style>\n",
       "<table border=\"1\" class=\"dataframe\">\n",
       "  <thead>\n",
       "    <tr style=\"text-align: right;\">\n",
       "      <th></th>\n",
       "      <th>place_of_publication</th>\n",
       "      <th>date_of_publication</th>\n",
       "      <th>publisher</th>\n",
       "      <th>title</th>\n",
       "      <th>author</th>\n",
       "      <th>flickr_url</th>\n",
       "    </tr>\n",
       "    <tr>\n",
       "      <th>id</th>\n",
       "      <th></th>\n",
       "      <th></th>\n",
       "      <th></th>\n",
       "      <th></th>\n",
       "      <th></th>\n",
       "      <th></th>\n",
       "    </tr>\n",
       "  </thead>\n",
       "  <tbody>\n",
       "    <tr>\n",
       "      <th>4158088</th>\n",
       "      <td></td>\n",
       "      <td>1838</td>\n",
       "      <td>NaN</td>\n",
       "      <td>The Parochial History of Cornwall, founded on,...</td>\n",
       "      <td>GIDDY, afterwards GILBERT, Davies.</td>\n",
       "      <td>http://www.flickr.com/photos/britishlibrary/ta...</td>\n",
       "    </tr>\n",
       "    <tr>\n",
       "      <th>4158128</th>\n",
       "      <td></td>\n",
       "      <td>1831</td>\n",
       "      <td>M. Mozley &amp; Son</td>\n",
       "      <td>The History and Gazetteer of the County of Der...</td>\n",
       "      <td>GLOVER, Stephen - of Derby</td>\n",
       "      <td>http://www.flickr.com/photos/britishlibrary/ta...</td>\n",
       "    </tr>\n",
       "    <tr>\n",
       "      <th>4159563</th>\n",
       "      <td></td>\n",
       "      <td>1806</td>\n",
       "      <td>T. Cadell and W. Davies</td>\n",
       "      <td>Magna Britannia; being a concise topographical...</td>\n",
       "      <td>LYSONS, Daniel - M.A., F.R.S., and LYSONS (Sam...</td>\n",
       "      <td>http://www.flickr.com/photos/britishlibrary/ta...</td>\n",
       "    </tr>\n",
       "    <tr>\n",
       "      <th>4159587</th>\n",
       "      <td></td>\n",
       "      <td>1834</td>\n",
       "      <td>Mackenzie &amp; Dent</td>\n",
       "      <td>An historical, topographical and descriptive v...</td>\n",
       "      <td>Mackenzie, E. (Eneas)</td>\n",
       "      <td>http://www.flickr.com/photos/britishlibrary/ta...</td>\n",
       "    </tr>\n",
       "    <tr>\n",
       "      <th>4160339</th>\n",
       "      <td></td>\n",
       "      <td>1834</td>\n",
       "      <td>NaN</td>\n",
       "      <td>Collectanea Topographica et Genealogica. [Firs...</td>\n",
       "      <td>NaN</td>\n",
       "      <td>http://www.flickr.com/photos/britishlibrary/ta...</td>\n",
       "    </tr>\n",
       "  </tbody>\n",
       "</table>\n",
       "</div>"
      ],
      "text/plain": [
       "        place_of_publication  date_of_publication                publisher  \\\n",
       "id                                                                           \n",
       "4158088                                      1838                      NaN   \n",
       "4158128                                      1831          M. Mozley & Son   \n",
       "4159563                                      1806  T. Cadell and W. Davies   \n",
       "4159587                                      1834         Mackenzie & Dent   \n",
       "4160339                                      1834                      NaN   \n",
       "\n",
       "                                                     title  \\\n",
       "id                                                           \n",
       "4158088  The Parochial History of Cornwall, founded on,...   \n",
       "4158128  The History and Gazetteer of the County of Der...   \n",
       "4159563  Magna Britannia; being a concise topographical...   \n",
       "4159587  An historical, topographical and descriptive v...   \n",
       "4160339  Collectanea Topographica et Genealogica. [Firs...   \n",
       "\n",
       "                                                    author  \\\n",
       "id                                                           \n",
       "4158088                 GIDDY, afterwards GILBERT, Davies.   \n",
       "4158128                         GLOVER, Stephen - of Derby   \n",
       "4159563  LYSONS, Daniel - M.A., F.R.S., and LYSONS (Sam...   \n",
       "4159587                              Mackenzie, E. (Eneas)   \n",
       "4160339                                                NaN   \n",
       "\n",
       "                                                flickr_url  \n",
       "id                                                          \n",
       "4158088  http://www.flickr.com/photos/britishlibrary/ta...  \n",
       "4158128  http://www.flickr.com/photos/britishlibrary/ta...  \n",
       "4159563  http://www.flickr.com/photos/britishlibrary/ta...  \n",
       "4159587  http://www.flickr.com/photos/britishlibrary/ta...  \n",
       "4160339  http://www.flickr.com/photos/britishlibrary/ta...  "
      ]
     },
     "execution_count": 44,
     "metadata": {},
     "output_type": "execute_result"
    }
   ],
   "source": [
    "books.tail()"
   ]
  },
  {
   "cell_type": "code",
   "execution_count": null,
   "id": "d849065e",
   "metadata": {},
   "outputs": [],
   "source": []
  }
 ],
 "metadata": {
  "kernelspec": {
   "display_name": "Python 3 (ipykernel)",
   "language": "python",
   "name": "python3"
  },
  "language_info": {
   "codemirror_mode": {
    "name": "ipython",
    "version": 3
   },
   "file_extension": ".py",
   "mimetype": "text/x-python",
   "name": "python",
   "nbconvert_exporter": "python",
   "pygments_lexer": "ipython3",
   "version": "3.9.12"
  }
 },
 "nbformat": 4,
 "nbformat_minor": 5
}
